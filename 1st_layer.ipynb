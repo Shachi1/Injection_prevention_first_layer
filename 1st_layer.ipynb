{
  "nbformat": 4,
  "nbformat_minor": 0,
  "metadata": {
    "colab": {
      "name": "1st_layer.ipynb",
      "provenance": []
    },
    "kernelspec": {
      "name": "python3",
      "display_name": "Python 3"
    },
    "language_info": {
      "name": "python"
    }
  },
  "cells": [
    {
      "cell_type": "code",
      "metadata": {
        "id": "Ja5Tt58E4riM"
      },
      "source": [
        "import pandas as pd\n",
        "import string"
      ],
      "execution_count": null,
      "outputs": []
    },
    {
      "cell_type": "code",
      "metadata": {
        "id": "Wt5cbb6s45r-"
      },
      "source": [
        "sheet_url='https://docs.google.com/spreadsheets/d/1il54YsQNfGxLOeMvG94PyymbKZ-JeddP/edit#gid=1921110563'\n",
        "csv_export_url = sheet_url.replace('/edit#gid=', '/export?format=csv&gid=')\n",
        "pl_nosql = pd.read_csv(csv_export_url, header= None)\n",
        "payload_nosql = pl_nosql.values.tolist()\n",
        "\n",
        "sheet_url='https://docs.google.com/spreadsheets/d/1DudjjdnNl8A4O2bD5zD-uPnT6Ow-XQ_0/edit#gid=1846316042'\n",
        "csv_export_url = sheet_url.replace('/edit#gid=', '/export?format=csv&gid=')\n",
        "pl_sql = pd.read_csv(csv_export_url, header= None)\n",
        "payload_sql = pl_sql.values.tolist()\n"
      ],
      "execution_count": null,
      "outputs": []
    },
    {
      "cell_type": "code",
      "source": [
        "for i in range(len(payload_sql)):\n",
        "  payload_sql[i][0] = payload_sql[i][0].translate({ord(c): None for c in string.whitespace})\n",
        "\n",
        "for i in range(len(payload_nosql)):\n",
        "  payload_nosql[i][0] = payload_nosql[i][0].translate({ord(c): None for c in string.whitespace})"
      ],
      "metadata": {
        "id": "gdMLn353Y1Eh"
      },
      "execution_count": null,
      "outputs": []
    },
    {
      "cell_type": "code",
      "metadata": {
        "id": "Sxvse2T5h2uf"
      },
      "source": [
        "def detect_malicious_sql(payload_sql, input):\n",
        "  # import json\n",
        "  # input = json.load(input)\n",
        "\n",
        "  userInput=''\n",
        "  for i in input.values():\n",
        "    userInput = userInput + str(i).translate({ord(c): None for c in string.whitespace})\n",
        "  second_layer_check = True\n",
        "  for i in payload_sql:\n",
        "    if i[0] in userInput:\n",
        "      second_layer_check = False\n",
        "  return second_layer_check "
      ],
      "execution_count": null,
      "outputs": []
    },
    {
      "cell_type": "code",
      "source": [
        "def detect_malicious_nosql(payload_nosql, input):\n",
        "  # import json\n",
        "  # input = json.load(input)\n",
        "  userInput=''\n",
        "  for i in input.values():\n",
        "    userInput = userInput + str(i).translate({ord(c): None for c in string.whitespace})\n",
        "\n",
        "  second_layer_check = True\n",
        "  for i in payload_nosql:\n",
        "    if i[0] in userInput:\n",
        "      second_layer_check = False\n",
        "  return second_layer_check "
      ],
      "metadata": {
        "id": "BF-0Nx6UVFhk"
      },
      "execution_count": null,
      "outputs": []
    },
    {
      "cell_type": "code",
      "source": [
        "import json\n",
        "some_json = {\n",
        "     \"payload_type\":\"sql\",\n",
        "     \"data\":{\n",
        "        \"name\":\"John\", \n",
        "        \"age\":30, \n",
        "        \"city\":\"New OR 1=0\"\n",
        "     }\n",
        "}\n",
        "json_dump = json.dumps(some_json)\n",
        "json_object = json.loads(json_dump)\n",
        "\n",
        "detect_malicious_sql(payload_sql, some_json[\"data\"])"
      ],
      "metadata": {
        "colab": {
          "base_uri": "https://localhost:8080/"
        },
        "id": "sE2DPu6Fhaqg",
        "outputId": "272c0a6e-7d45-4e32-eac0-eb05b1aa4d4a"
      },
      "execution_count": null,
      "outputs": [
        {
          "output_type": "execute_result",
          "data": {
            "text/plain": [
              "False"
            ]
          },
          "metadata": {},
          "execution_count": 17
        }
      ]
    },
    {
      "cell_type": "code",
      "source": [
        "detect_malicious_nosql(payload_nosql, some_json)"
      ],
      "metadata": {
        "colab": {
          "base_uri": "https://localhost:8080/"
        },
        "id": "-GQZnweshho-",
        "outputId": "fa560fe2-70da-46ca-f2aa-600a663d1ff1"
      },
      "execution_count": null,
      "outputs": [
        {
          "output_type": "execute_result",
          "data": {
            "text/plain": [
              "True"
            ]
          },
          "metadata": {},
          "execution_count": 7
        }
      ]
    }
  ]
}